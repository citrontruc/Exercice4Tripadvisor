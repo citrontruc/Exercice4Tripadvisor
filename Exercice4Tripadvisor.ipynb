{
 "cells": [
  {
   "cell_type": "markdown",
   "metadata": {},
   "source": [
    "# Presentation\n",
    "---\n",
    "\n",
    "Le but de cet exercice est de nous familiariser avec la manipulation de données. Pour ce faire, nous allons commencer par analyser une base de données de critiques tripadvisor pour ensuite faire de la prédiction de notes données par les clients. Le jeu de données peut être récupéré à [l'adresse suivante.](https://www.kaggle.com/datasets/andrewmvd/trip-advisor-hotel-reviews/data)."
   ]
  },
  {
   "cell_type": "markdown",
   "metadata": {},
   "source": [
    "## Import des librairies"
   ]
  },
  {
   "cell_type": "code",
   "execution_count": null,
   "metadata": {},
   "outputs": [],
   "source": []
  },
  {
   "cell_type": "markdown",
   "metadata": {},
   "source": [
    "## Chargement des données"
   ]
  },
  {
   "cell_type": "code",
   "execution_count": null,
   "metadata": {},
   "outputs": [],
   "source": []
  },
  {
   "cell_type": "markdown",
   "metadata": {},
   "source": [
    "# Partie 1) Etude de la qualité des données\n",
    "\n",
    "---\n",
    "\n",
    "1) De combien de données disposons-nous ? \n",
    "2) Possédons-nous des données manquantes ou des doublons ? \n",
    "3) Est-ce nous possédons des commentaires en doubles ? Qu'en faire ?\n",
    "3) Quelles sont les longueurs de nos commentaires ?\n",
    "3) Dans quelles langues se trouvent nos données ?"
   ]
  },
  {
   "cell_type": "code",
   "execution_count": null,
   "metadata": {},
   "outputs": [],
   "source": []
  },
  {
   "cell_type": "markdown",
   "metadata": {},
   "source": [
    "# Partie 2) Analyse\n",
    "\n",
    "---\n",
    "\n",
    "1) Analysez la distribution des notes. Qu'est-ce que cela présage pour la partie machine learning ?\n",
    "2) Faire un wordcloud pour indiquer les mots les plus populaires dans nos différents commentaires en fonction de la note attribuée à la fin.\n",
    "3) Faire la même chose que la question précédente mais avec du stemming au préalable (nous vous conseillons d'utiliser porterstemmer pour plus de facilité).\n",
    "4) Faire la même chose que la question précédente mais cette fois-ci en considérant les groupes de deux mots adjacents (note culturelle : les groupes de k mots adjacents sont appelés k-grams)\n",
    "5) Nous décidons qu'il serait bien de connaître un poil mieux nos utilisateurs. Afin de pouvoir en savoir plus, utilisons de la LDA afin de pouvoir trouver des thèmes dans nos commentaires d'utilisateurs. \n",
    "\n",
    "Note : afin d'étudier plus en détail les thèmes, nous aurions pu utiliser du bertopic qui nous aurait renvoyé des thèmes pertinents."
   ]
  },
  {
   "cell_type": "code",
   "execution_count": null,
   "metadata": {},
   "outputs": [],
   "source": []
  },
  {
   "cell_type": "markdown",
   "metadata": {},
   "source": [
    "# Partie 3) Machine learning\n",
    "\n",
    "---\n",
    "\n",
    "1) Faut-il considérer le problème comme un problème de classification ou de regression ? Discutez des enjeux des deux approches.\n",
    "2) Comment transformer nos données textuelles afin de faire du deep learning ?\n",
    "3) Utilisez un modèle pré-entrainé pour obtenir le sentiment de chaque texte.\n",
    "4) Faire un embedding des textes en utilisant un modèle pré-entrainé.\n",
    "5) Construisez un modèle de deep learning pour prédire les notes."
   ]
  },
  {
   "cell_type": "code",
   "execution_count": null,
   "metadata": {},
   "outputs": [],
   "source": []
  },
  {
   "cell_type": "markdown",
   "metadata": {},
   "source": [
    "### Partie 4) Analyse de thèmes\n",
    "---\n",
    "\n",
    "1) En utilisant la méthode KMeans trouvez le nombre optimal de cluster dans nos données.\n",
    "2) Identifiez les thèmes évoqués dans les différents clusters.\n",
    "2) En utilisant BertTopic, classifiez nos avis par sujets."
   ]
  },
  {
   "cell_type": "code",
   "execution_count": null,
   "metadata": {},
   "outputs": [],
   "source": []
  }
 ],
 "metadata": {
  "kernelspec": {
   "display_name": "Python 3",
   "language": "python",
   "name": "python3"
  },
  "language_info": {
   "codemirror_mode": {
    "name": "ipython",
    "version": 3
   },
   "file_extension": ".py",
   "mimetype": "text/x-python",
   "name": "python",
   "nbconvert_exporter": "python",
   "pygments_lexer": "ipython3",
   "version": "3.11.6"
  }
 },
 "nbformat": 4,
 "nbformat_minor": 2
}
